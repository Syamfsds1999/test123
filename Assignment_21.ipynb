{
 "cells": [
  {
   "cell_type": "markdown",
   "id": "76bb262c",
   "metadata": {},
   "source": [
    "1. Add the current date to the text file today.txt as a string."
   ]
  },
  {
   "cell_type": "code",
   "execution_count": 4,
   "id": "d9808f2f",
   "metadata": {},
   "outputs": [],
   "source": [
    "from datetime import date"
   ]
  },
  {
   "cell_type": "code",
   "execution_count": 5,
   "id": "a340bd1d",
   "metadata": {},
   "outputs": [],
   "source": [
    "now = date.today()"
   ]
  },
  {
   "cell_type": "code",
   "execution_count": 6,
   "id": "151d091a",
   "metadata": {},
   "outputs": [],
   "source": [
    "now_str = now.isoformat()"
   ]
  },
  {
   "cell_type": "code",
   "execution_count": 7,
   "id": "482de9d4",
   "metadata": {},
   "outputs": [],
   "source": [
    "with open('today', 'wt') as output:\n",
    "    print(now_str, file=output)"
   ]
  },
  {
   "cell_type": "markdown",
   "id": "91d79561",
   "metadata": {},
   "source": [
    "2. Read the text file today.txt into the string today_string"
   ]
  },
  {
   "cell_type": "code",
   "execution_count": 9,
   "id": "444d3bfd",
   "metadata": {},
   "outputs": [],
   "source": [
    "with open('today', 'rt') as input:\n",
    "    today_string = input.read()"
   ]
  },
  {
   "cell_type": "code",
   "execution_count": 10,
   "id": "0b9c6703",
   "metadata": {},
   "outputs": [
    {
     "data": {
      "text/plain": [
       "'2022-09-03\\n'"
      ]
     },
     "execution_count": 10,
     "metadata": {},
     "output_type": "execute_result"
    }
   ],
   "source": [
    "today_string"
   ]
  },
  {
   "cell_type": "markdown",
   "id": "90a34084",
   "metadata": {},
   "source": [
    "3. Parse the date from today_string."
   ]
  },
  {
   "cell_type": "code",
   "execution_count": 11,
   "id": "6a5981b9",
   "metadata": {},
   "outputs": [],
   "source": [
    "fmt = '%Y-%m-%d\\n'"
   ]
  },
  {
   "cell_type": "markdown",
   "id": "8789e585",
   "metadata": {},
   "source": [
    "4. List the files in your current directory"
   ]
  },
  {
   "cell_type": "code",
   "execution_count": 12,
   "id": "d5a65cd6",
   "metadata": {},
   "outputs": [],
   "source": [
    "import os"
   ]
  },
  {
   "cell_type": "code",
   "execution_count": 13,
   "id": "eadecd9d",
   "metadata": {},
   "outputs": [
    {
     "data": {
      "text/plain": [
       "['.anaconda',\n",
       " '.astropy',\n",
       " '.bash_history',\n",
       " '.conda',\n",
       " '.condarc',\n",
       " '.continuum',\n",
       " '.eclipse',\n",
       " '.groovy',\n",
       " '.ipynb_checkpoints',\n",
       " '.ipython',\n",
       " '.jenkins',\n",
       " '.jupyter',\n",
       " '.katalon',\n",
       " '.lemminx',\n",
       " '.m2',\n",
       " '.matplotlib',\n",
       " '.ms-ad',\n",
       " '.openjfx',\n",
       " '.p2',\n",
       " '.soapuios',\n",
       " '.swt',\n",
       " '.tooling',\n",
       " '.vscode',\n",
       " \"23'July NLP.ipynb\",\n",
       " \"26'Feb Casandra.ipynb\",\n",
       " \"26'Feb Pandas.ipynb\",\n",
       " \"27'Feb Pandas .ipynb\",\n",
       " \"28'Aug .ipynb\",\n",
       " '3D Objects',\n",
       " 'anaconda3',\n",
       " 'AppData',\n",
       " 'Application Data',\n",
       " 'Assignment 10.ipynb',\n",
       " 'Assignment_15.ipynb',\n",
       " 'Assignment_16.ipynb',\n",
       " 'Assignment_17.ipynb',\n",
       " 'Assignment_19.ipynb',\n",
       " 'Assignment_20.ipynb',\n",
       " 'Assignment_21.ipynb',\n",
       " 'AWS_cred.txt',\n",
       " 'books.csv',\n",
       " 'books.db',\n",
       " 'BullseyeCoverageError.txt',\n",
       " 'Contacts',\n",
       " 'Cookies',\n",
       " 'cricket.csv',\n",
       " 'Dec 4th.ipynb',\n",
       " 'Dec 5th.ipynb',\n",
       " \"Dec'19.ipynb\",\n",
       " \"Dec'20.ipynb\",\n",
       " \"Dec'21.ipynb\",\n",
       " \"Dec'23 Function.ipynb\",\n",
       " 'Dec18th.ipynb',\n",
       " 'default-soapui-workspace.xml',\n",
       " 'Documents',\n",
       " 'Downloads',\n",
       " 'eclipse',\n",
       " 'eclipse-workspace',\n",
       " 'Favorites',\n",
       " \"Feb'05.ipynb\",\n",
       " \"Feb'13.ipynb\",\n",
       " \"Feb'20.ipynb\",\n",
       " 'ineuron.db',\n",
       " \"Jan'29.ipynb\",\n",
       " \"Jan'30.ipynb\",\n",
       " \"Jan'8 Functions -2.ipynb\",\n",
       " \"Jan'9th.ipynb\",\n",
       " 'jobdb.db',\n",
       " 'json_res.csv',\n",
       " \"June'5.ipynb\",\n",
       " 'Katalon Studio',\n",
       " 'Links',\n",
       " 'Local Settings',\n",
       " 'LUSID Excel - Business Agility - Making Simple Changes Quickly & Easily.xlsx',\n",
       " 'LUSID Excel - Maintain a product in multiple currencies and share classes.xlsx',\n",
       " 'LUSID Excel - Manage instruments with economic definitions.xlsx',\n",
       " 'LUSID Excel - Manage Orders.xlsx',\n",
       " 'machine_learning_project-1',\n",
       " \"Mar'12 Pandas&Numpy.ipynb\",\n",
       " \"Mar'13 Numpy.ipynb\",\n",
       " \"Mar'20 GUI.ipynb\",\n",
       " \"Mar'26 GRAPH.ipynb\",\n",
       " \"Mar'27 .ipynb\",\n",
       " \"Mar'5 Pandas Day3.ipynb\",\n",
       " \"Mar'6 Pandas part 2.ipynb\",\n",
       " \"May'21.ipynb\",\n",
       " \"May'22.ipynb\",\n",
       " \"May'29.ipynb\",\n",
       " 'MicrosoftEdgeBackups',\n",
       " 'Music',\n",
       " 'My Documents',\n",
       " 'NBA.csv',\n",
       " 'NetHood',\n",
       " 'NTUSER.DAT',\n",
       " 'ntuser.dat.LOG1',\n",
       " 'ntuser.dat.LOG2',\n",
       " 'NTUSER.DAT{0e2782ea-8d68-11ec-bb2e-b89c36770dbf}.TxR.0.regtrans-ms',\n",
       " 'NTUSER.DAT{0e2782ea-8d68-11ec-bb2e-b89c36770dbf}.TxR.1.regtrans-ms',\n",
       " 'NTUSER.DAT{0e2782ea-8d68-11ec-bb2e-b89c36770dbf}.TxR.2.regtrans-ms',\n",
       " 'NTUSER.DAT{0e2782ea-8d68-11ec-bb2e-b89c36770dbf}.TxR.blf',\n",
       " 'NTUSER.DAT{0e2782eb-8d68-11ec-bb2e-b89c36770dbf}.TM.blf',\n",
       " 'NTUSER.DAT{0e2782eb-8d68-11ec-bb2e-b89c36770dbf}.TMContainer00000000000000000001.regtrans-ms',\n",
       " 'NTUSER.DAT{0e2782eb-8d68-11ec-bb2e-b89c36770dbf}.TMContainer00000000000000000002.regtrans-ms',\n",
       " 'ntuser.ini',\n",
       " 'OneDrive',\n",
       " 'oxygeneclipse',\n",
       " 'person.db',\n",
       " 'Pictures',\n",
       " 'Postman',\n",
       " 'PrintHood',\n",
       " 'PycharmProjects',\n",
       " 'Python Programs',\n",
       " 'Recent',\n",
       " 'sample_test.csv',\n",
       " 'Saved Games',\n",
       " 'seaborn-data',\n",
       " 'Searches',\n",
       " 'SendTo',\n",
       " 'services.csv',\n",
       " 'soapui-settings.xml',\n",
       " 'SoapUI-Tutorials',\n",
       " 'Start Menu',\n",
       " 'taxonomy.csv',\n",
       " 'Templates',\n",
       " 'test.txt',\n",
       " 'today',\n",
       " 'Untitled Folder',\n",
       " 'Untitled Folder 1',\n",
       " 'Untitled.ipynb',\n",
       " 'untitled.txt',\n",
       " 'Untitled1.ipynb',\n",
       " 'untitled1.txt',\n",
       " 'Untitled2.ipynb',\n",
       " 'Untitled3.ipynb',\n",
       " 'Videos',\n",
       " '__pycache__']"
      ]
     },
     "execution_count": 13,
     "metadata": {},
     "output_type": "execute_result"
    }
   ],
   "source": [
    " os.listdir('.')"
   ]
  },
  {
   "cell_type": "markdown",
   "id": "52b56496",
   "metadata": {},
   "source": [
    "5. Create a list of all of the files in your parent directory (minimum five files should be available)."
   ]
  },
  {
   "cell_type": "code",
   "execution_count": 14,
   "id": "636ffeb5",
   "metadata": {},
   "outputs": [],
   "source": [
    "import os"
   ]
  },
  {
   "cell_type": "code",
   "execution_count": 15,
   "id": "d6e0c507",
   "metadata": {},
   "outputs": [
    {
     "data": {
      "text/plain": [
       "['All Users', 'Default', 'Default User', 'desktop.ini', 'Public', 'syams']"
      ]
     },
     "execution_count": 15,
     "metadata": {},
     "output_type": "execute_result"
    }
   ],
   "source": [
    " os.listdir('..')"
   ]
  },
  {
   "cell_type": "markdown",
   "id": "73a56c6a",
   "metadata": {},
   "source": [
    "6. Use multiprocessing to create three separate processes. Make each one wait a random number of seconds between one and five, print the current time, and then exit."
   ]
  },
  {
   "cell_type": "markdown",
   "id": "670f13d2",
   "metadata": {},
   "source": [
    "import multiprocessing\n",
    "\n",
    "def now(seconds): from datetime import datetime from time import sleep sleep(seconds) print('wait', seconds, 'seconds, time is', datetime.utcnow())\n",
    "\n",
    "if name == 'main': import random for n in range(3): seconds = random.random() proc = multiprocessing.Process(target=now, args=(seconds,)) proc.start()"
   ]
  },
  {
   "cell_type": "markdown",
   "id": "fed319c8",
   "metadata": {},
   "source": [
    "7. Create a date object of your day of birth."
   ]
  },
  {
   "cell_type": "code",
   "execution_count": 18,
   "id": "33333fea",
   "metadata": {},
   "outputs": [],
   "source": [
    "my_day = date(1999,3,1)"
   ]
  },
  {
   "cell_type": "code",
   "execution_count": 19,
   "id": "cbb433a4",
   "metadata": {},
   "outputs": [
    {
     "data": {
      "text/plain": [
       "datetime.date(1999, 3, 1)"
      ]
     },
     "execution_count": 19,
     "metadata": {},
     "output_type": "execute_result"
    }
   ],
   "source": [
    "my_day"
   ]
  },
  {
   "cell_type": "markdown",
   "id": "4e5f1864",
   "metadata": {},
   "source": [
    "8. What day of the week was your day of birth?"
   ]
  },
  {
   "cell_type": "code",
   "execution_count": 20,
   "id": "7bafa3dc",
   "metadata": {},
   "outputs": [
    {
     "data": {
      "text/plain": [
       "0"
      ]
     },
     "execution_count": 20,
     "metadata": {},
     "output_type": "execute_result"
    }
   ],
   "source": [
    "my_day.weekday()"
   ]
  },
  {
   "cell_type": "code",
   "execution_count": 21,
   "id": "6256eef4",
   "metadata": {},
   "outputs": [
    {
     "data": {
      "text/plain": [
       "1"
      ]
     },
     "execution_count": 21,
     "metadata": {},
     "output_type": "execute_result"
    }
   ],
   "source": [
    "my_day.isoweekday()"
   ]
  },
  {
   "cell_type": "markdown",
   "id": "61326740",
   "metadata": {},
   "source": [
    "9. When will you be (or when were you) 10,000 days old?"
   ]
  },
  {
   "cell_type": "code",
   "execution_count": 22,
   "id": "3d40908d",
   "metadata": {},
   "outputs": [],
   "source": [
    "from datetime import timedelta"
   ]
  },
  {
   "cell_type": "code",
   "execution_count": 23,
   "id": "70a02540",
   "metadata": {},
   "outputs": [],
   "source": [
    "party_day = my_day + timedelta(days=10000)"
   ]
  },
  {
   "cell_type": "code",
   "execution_count": 24,
   "id": "a14ac1a0",
   "metadata": {},
   "outputs": [
    {
     "data": {
      "text/plain": [
       "datetime.date(2026, 7, 17)"
      ]
     },
     "execution_count": 24,
     "metadata": {},
     "output_type": "execute_result"
    }
   ],
   "source": [
    "party_day"
   ]
  },
  {
   "cell_type": "code",
   "execution_count": null,
   "id": "b9621d00",
   "metadata": {},
   "outputs": [],
   "source": []
  }
 ],
 "metadata": {
  "kernelspec": {
   "display_name": "Python 3 (ipykernel)",
   "language": "python",
   "name": "python3"
  },
  "language_info": {
   "codemirror_mode": {
    "name": "ipython",
    "version": 3
   },
   "file_extension": ".py",
   "mimetype": "text/x-python",
   "name": "python",
   "nbconvert_exporter": "python",
   "pygments_lexer": "ipython3",
   "version": "3.9.7"
  }
 },
 "nbformat": 4,
 "nbformat_minor": 5
}
